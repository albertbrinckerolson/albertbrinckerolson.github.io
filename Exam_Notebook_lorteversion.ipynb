{
 "cells": [
  {
   "cell_type": "code",
   "execution_count": null,
   "metadata": {},
   "outputs": [],
   "source": []
  },
  {
   "cell_type": "markdown",
   "metadata": {},
   "source": [
    "This is the accompanying notebook for the final project of the Social Data visualization course.\n",
    "\n",
    "Here we explain the different aspects of the project in more technical detail.\n",
    "\n",
    "In this project, we are working with houseingprices from copenhagen, and unfortunately there is not a good source of data for this which is easily accessible. Therefore we have chosen to scrape a dataset ourselves from the website \"boligsiden.dk\". \n",
    "# Scraping # \n",
    "\n",
    "The scraping is done using beautiful soup, a good library for navigating HTML code in python. \n",
    "One quirk about boligsiden is that they can only show 500 pages of a single search query, so when we scrape we need to ensure that our queries will give less pages than 500. we do this by creating combinations of area, years and municipality, e.g. one query will be sales in copenhagen, between 2000-2001, with area between 60-61 m2. \n",
    "\n",
    "For each sale we log the variables: longitude, latitude, neighbourhood, date and areaprice. the script is shown below: \n",
    "\n"
   ]
  },
  {
   "cell_type": "code",
   "execution_count": null,
   "metadata": {},
   "outputs": [],
   "source": [
    "import os\n",
    "import requests\n",
    "import pandas as pd\n",
    "from bs4 import BeautifulSoup\n",
    "import json\n",
    "import re\n",
    "from tqdm import tqdm\n",
    "import time\n",
    "import random\n",
    "# year intervals\n",
    "years = [2000+i for i in range(25)]\n",
    "yearIntervals = [(years[i],years[i+1]) for i in range(24)]\n",
    "# list of areas\n",
    "areas = [[i,i+1] for i in range(300)]\n",
    "areas[-1][1] = 10000\n",
    "\n",
    "df_dict = {}\n",
    "for kommune in ['koebenhavn','frederiksberg']:\n",
    "    for years in yearIntervals:\n",
    "        if not os.path.isfile(f'{str(years[0])}_kbh_scrape.xlsx'):\n",
    "            obs_list = []\n",
    "            print(f'Currently scraping from {years[0]} to {years[1]}')\n",
    "            for area in areas:\n",
    "                print(f'area range: {area}')\n",
    "                page = 1\n",
    "                full_page = True\n",
    "                while full_page:\n",
    "                    url = fr'https://www.boligsiden.dk/kommune/{kommune}/solgte?sortAscending=false&yearSoldFrom={years[0]}&yearSoldTo={years[1]}&areaMin={area[0]}&areaMax={area[1]}&page={page}'\n",
    "                    response = requests.get(url)\n",
    "                    if response.status_code == 200:\n",
    "                        raw_html = response.text\n",
    "                        soup = BeautifulSoup(raw_html, 'html.parser')\n",
    "\n",
    "                        page_labels = soup.find_all('a', {'aria-label': True})\n",
    "                        script_tag = soup.find('script', {'id': '__NEXT_DATA__'})\n",
    "                        json_data = script_tag.string\n",
    "                        data = json.loads(json_data)\n",
    "                        normjson = pd.json_normalize(data['props']['pageProps']['searchResults']['sold'])\n",
    "                        if len(normjson) == 0:\n",
    "                            full_page = False\n",
    "                        else:\n",
    "                            for b_id in range(len(normjson['registrations'])):\n",
    "                                lat = normjson['coordinates.lat'][b_id]\n",
    "                                lon = normjson['coordinates.lon'][b_id]\n",
    "                                bydel = normjson['cityName'][b_id]\n",
    "                                for s_id in range(len(normjson['registrations'][b_id])):\n",
    "                                    date = normjson['registrations'][b_id][s_id]['date']\n",
    "                                    pap = normjson['registrations'][b_id][s_id]['perAreaPrice']\n",
    "                                    price = normjson['registrations'][b_id][s_id]['amount']\n",
    "                                    obs_list.append([lat,lon,bydel,date,pap])\n",
    "                    page += 1\n",
    "            # save after each year to allow for stopping and starting the scrape\n",
    "            df_dict[str(years[0])] = pd.DataFrame(obs_list) \n",
    "            df_dict[str(years[0])].to_excel(f'{str(years[0])}_kbh_scrape.xlsx')\n",
    "        else:\n",
    "            print(f'year {years} was already scraped')\n",
    "    \n",
    "                                "
   ]
  },
  {
   "cell_type": "markdown",
   "metadata": {},
   "source": [
    "# Preprocessing #\n",
    "\n",
    "A number of things must be done to the data before we can use it for analysis and visualization. \n",
    "First and foremost, there are a lot of outliers that heavily influence the data as is.\n",
    "After inspecting the distribution we decide to remove the observations within top 3% of areaprice.\n",
    "Furthermore we remove the neighbourhoods 'Hellerup','Kastrup','Rødovre', as we intend to produce cloropleth maps, and we do not have the shapefiles for these areas.\n",
    "\n"
   ]
  },
  {
   "cell_type": "code",
   "execution_count": 1,
   "metadata": {},
   "outputs": [
    {
     "name": "stderr",
     "output_type": "stream",
     "text": [
      "C:\\Users\\alboa\\AppData\\Local\\Temp\\ipykernel_8600\\3569815818.py:1: DeprecationWarning: \n",
      "Pyarrow will become a required dependency of pandas in the next major release of pandas (pandas 3.0),\n",
      "(to allow more performant data types, such as the Arrow string type, and better interoperability with other libraries)\n",
      "but was not found to be installed on your system.\n",
      "If this would cause problems for you,\n",
      "please provide us feedback at https://github.com/pandas-dev/pandas/issues/54466\n",
      "        \n",
      "  import pandas as pd\n"
     ]
    }
   ],
   "source": [
    "\n",
    "import pandas as pd\n",
    "import numpy as np\n",
    "\n",
    "# collect all saved files from scraping\n",
    "File_names = ['frederiksberg_scrape.xlsx'] + [f'{i}_kbh_scrape.xlsx' for i in range(2000,2024)]\n",
    "df_list = []\n",
    "for filename in File_names:\n",
    "    df = pd.read_excel(filename)\n",
    "    df = df.drop('Unnamed: 0',axis = 1)\n",
    "    df.columns = ['lon','lat','bydel','date','areaprice']\n",
    "    if filename == 'frederiksberg_scrape.xlsx':\n",
    "        df['bydel'] = ['Frederiksberg']*len(df)\n",
    "    df['date'] = pd.to_datetime(df['date'])\n",
    "    df = df[df.areaprice < df.areaprice.quantile(.97)]\n",
    "    df = df[df['date'] >= pd.to_datetime('01/01/2000') ]\n",
    "    df['quarter'] = pd.PeriodIndex(df.date, freq='Q')\n",
    "    df['ones'] = np.ones(len(df))\n",
    "    df_list.append(df)\n",
    "\n",
    "# merge into one large data frame\n",
    "big_df = pd.concat(df_list)\n",
    "Bydele = list(set(big_df['bydel']))\n",
    "Bydele.remove('Hellerup')\n",
    "Bydele.remove('Kastrup')\n",
    "Bydele.remove('Rødovre') "
   ]
  },
  {
   "cell_type": "markdown",
   "metadata": {},
   "source": [
    " We now have a very large list of recorded sales, which is then aggregated based on neighbourhood and quarters. \n",
    " That is, for each neighbourhood and quarter between 2000Q1-2024Q1, we calculate the average areaprice,and count the number of sales. \n",
    " We are also interested in looking at the average across all "
   ]
  },
  {
   "cell_type": "code",
   "execution_count": 4,
   "metadata": {},
   "outputs": [],
   "source": [
    "Num_Dict = { }\n",
    "Price_Dict = { }\n",
    "for ind, bydel in enumerate(Bydele):        \n",
    "    df = big_df[big_df['bydel'] == bydel]\n",
    "    Price_Dict[bydel] = df.groupby([df['quarter']])['areaprice'].mean()\n",
    "    Num_Dict[bydel] = df.groupby([df['quarter']])['ones'].sum()\n",
    "\n",
    "df_Num = pd.DataFrame(Num_Dict)\n",
    "df_Num['Quarter'] = df_Num.index\n",
    "df_Num['Total'] = df_Num[Bydele].sum(axis = 1)\n",
    "\n",
    "df_Price = pd.DataFrame(Price_Dict)\n",
    "df_Price['Quarter'] = df_Price.index\n",
    "df_Price['Total'] = df_Price[Bydele].mean(axis = 1)\n",
    "\n",
    "\n",
    "# remove 2024Q2 as it is not complete as of april 2024\n",
    "\n",
    "\n",
    "df_Price = df_Price.drop('2024Q2')\n",
    "df_Num = df_Num.drop('2024Q2')"
   ]
  },
  {
   "cell_type": "code",
   "execution_count": 14,
   "metadata": {},
   "outputs": [
    {
     "data": {
      "text/plain": [
       "Index(['Brønshøj', 'København V', 'København NV', 'København N',\n",
       "       'Frederiksberg', 'København K', 'Valby', 'København Ø', 'Nordhavn',\n",
       "       'København S', 'Vanløse', 'København SV', 'Quarter', 'Total'],\n",
       "      dtype='object')"
      ]
     },
     "execution_count": 14,
     "metadata": {},
     "output_type": "execute_result"
    }
   ],
   "source": [
    "df_Price.columns"
   ]
  },
  {
   "cell_type": "markdown",
   "metadata": {},
   "source": [
    "# Visualizations #"
   ]
  },
  {
   "cell_type": "markdown",
   "metadata": {},
   "source": [
    "We make three different 2 axis plots as a preliminary analysis of the house market in Denmark. To do this we make an interactive plot of the sales and prices over time. It is interactive so that it is easier to compare different areas of Copenhagen. Furthermore, we make a plot to see the development in relative prices over time, that is, we make a plot looking at a quarters average price compared to the quarter before."
   ]
  },
  {
   "cell_type": "code",
   "execution_count": 99,
   "metadata": {},
   "outputs": [
    {
     "name": "stderr",
     "output_type": "stream",
     "text": [
      "BokehDeprecationWarning: Passing lists of formats for DatetimeTickFormatter scales was deprecated in Bokeh 3.0. Configure a single string format for each scale\n"
     ]
    }
   ],
   "source": [
    "\n",
    "# line plot with number of sales for each neighbourhood \n",
    "import pandas as pd\n",
    "from bokeh.plotting import figure, show\n",
    "from bokeh.models import ColumnDataSource, DatetimeTickFormatter, Legend\n",
    "import seaborn as sns\n",
    "from datetime import date\n",
    "from bokeh.io import output_file\n",
    "import matplotlib.dates as mdates\n",
    "import datetime\n",
    "output_file(\"NumSales.html\")\n",
    "custom_palette = sns.color_palette(\"Paired\", 12).as_hex()\n",
    "\n",
    "\n",
    "source = ColumnDataSource(df_Num)\n",
    "# Create a Bokeh figure\n",
    "p = figure(title=\"Number of Sales\", x_axis_label='Time', y_axis_label='Number of Sales', x_axis_type='datetime',height = 500,width = 1000)\n",
    "for i,bydel in enumerate(Bydele):\n",
    "# Plot neighbourhoods data\n",
    "    p.line(x='Quarter', y=bydel, source=source, line_width=2,alpha = 0.7, legend_label=bydel, color=custom_palette[i])\n",
    "\n",
    "p.line(x='Quarter', y='Total', source=source, line_width=3,alpha = 1, legend_label='Total', color='black')\n",
    "\n",
    "annotations = [\"Financial Crisis (Roskilde Bank bankruptcy)  \", \"Covid-19 shutdown  \",\"Invasion Of Ukraine  \"]\n",
    "specific_dates = [date(2008, 8, 10), date(2020, 3, 13), date(2022,2,24)]  # Example specific dates\n",
    "y_offsets = [50000,45000,50000]\n",
    "for date_val, annotation, y_offset in zip(specific_dates, annotations, y_offsets):\n",
    "    p.segment(x0=date_val, y0=0, x1=date_val, y1=50000, color=\"black\", line_width=2,line_dash='dashed',alpha = 0.6)\n",
    "    p.text(x=date_val,y=y_offset, text=[annotation], text_font_size=\"8pt\", text_align=\"right\", text_baseline=\"middle\", text_color=\"black\")\n",
    "\n",
    "\n",
    "# Customize the x-axis date formatting to display only the quarter and year\n",
    "p.xaxis.formatter = DatetimeTickFormatter(months=[\"%b %Y\"])\n",
    "leg = p.legend[0]\n",
    "p.add_layout(leg,'right')\n",
    "# Set legend click policy to 'hide'\n",
    "p.legend.click_policy = 'hide'\n",
    "\n",
    "# Show the plot\n",
    "show(p)\n"
   ]
  },
  {
   "cell_type": "code",
   "execution_count": 100,
   "metadata": {},
   "outputs": [
    {
     "name": "stderr",
     "output_type": "stream",
     "text": [
      "BokehDeprecationWarning: Passing lists of formats for DatetimeTickFormatter scales was deprecated in Bokeh 3.0. Configure a single string format for each scale\n"
     ]
    }
   ],
   "source": [
    "# line plot with average areaprice for each neighbourhood \n",
    "\n",
    "import pandas as pd\n",
    "from bokeh.plotting import figure, show\n",
    "from bokeh.models import ColumnDataSource, DatetimeTickFormatter, Legend,HoverTool\n",
    "import seaborn as sns\n",
    "from bokeh.io import output_file\n",
    "output_file(\"AvgPrice.html\")\n",
    "\n",
    "\n",
    "custom_palette = sns.color_palette(\"Paired\", 12).as_hex()\n",
    "# Print the list of colors\n",
    "source = ColumnDataSource(df_Price)\n",
    "# Create a Bokeh figure\n",
    "p = figure(title=\"Average m2 price\", x_axis_label='Time', y_axis_label='Average m2 price', x_axis_type='datetime',height = 500,width = 1000)\n",
    "for i,bydel in enumerate(Bydele):\n",
    "# Plot data for region1 by default\n",
    "    line_region1 = p.line(x='Quarter', y=bydel, source=source, line_width=1,alpha = 0.6, legend_label=bydel, color=custom_palette[i])\n",
    "p.line(x='Quarter', y='Total', source=source, line_width=4,alpha = 1, legend_label='Total', color='black')\n",
    "\n",
    "\n",
    "# Customize the x-axis date formatting to display only the quarter and year\n",
    "p.xaxis.formatter = DatetimeTickFormatter(months=[\"%b %Y\"])\n",
    "annotations = [\"Financial Crisis (Roskilde Bank bankruptcy)  \", \"Covid-19 shutdown  \",\"Invasion Of Ukraine  \"]\n",
    "specific_dates = [date(2008, 8, 10), date(2020, 3, 13), date(2022,2,24)]  # Example specific dates\n",
    "y_offsets = [60000,65000,70000]\n",
    "for date_val, annotation, y_offset in zip(specific_dates, annotations, y_offsets):\n",
    "    p.segment(x0=date_val, y0=0, x1=date_val, y1=70000, color=\"black\", line_width=2,line_dash='dashed',alpha = 0.6)\n",
    "    p.text(x=date_val,y=y_offset, text=[annotation], text_font_size=\"8pt\", text_align=\"right\", text_baseline=\"middle\", text_color=\"black\")\n",
    "\n",
    "# Create a legend\n",
    "leg = p.legend[0]\n",
    "p.add_layout(leg,'right')\n",
    "\n",
    "# Add the legend to the plot\n",
    "\n",
    "# Set legend click policy to 'hide'\n",
    "p.legend.click_policy = 'hide'\n",
    "\n",
    "# Show the plot\n",
    "show(p)\n"
   ]
  },
  {
   "cell_type": "code",
   "execution_count": 81,
   "metadata": {},
   "outputs": [],
   "source": []
  },
  {
   "cell_type": "code",
   "execution_count": 96,
   "metadata": {},
   "outputs": [
    {
     "name": "stderr",
     "output_type": "stream",
     "text": [
      "C:\\Users\\alboa\\AppData\\Local\\Temp\\ipykernel_8600\\2061902245.py:11: FutureWarning: Series.__getitem__ treating keys as positions is deprecated. In a future version, integer keys will always be treated as labels (consistent with DataFrame behavior). To access a value by position, use `ser.iloc[pos]`\n",
      "  pos_ind = [i for i in range(len(RelDiff)) if RelDiff[0][i]>0]\n",
      "C:\\Users\\alboa\\AppData\\Local\\Temp\\ipykernel_8600\\2061902245.py:14: FutureWarning: Series.__getitem__ treating keys as positions is deprecated. In a future version, integer keys will always be treated as labels (consistent with DataFrame behavior). To access a value by position, use `ser.iloc[pos]`\n",
      "  neg_ind = [i for i in range(len(RelDiff)) if RelDiff[0][i]<0]\n"
     ]
    },
    {
     "data": {
      "text/plain": [
       "Text(0, 0.5, 'Percent growth from previous quarter')"
      ]
     },
     "execution_count": 96,
     "metadata": {},
     "output_type": "execute_result"
    },
    {
     "data": {
      "image/png": "[encoded data removed]",
      "text/plain": [
       "<Figure size 1200x600 with 1 Axes>"
      ]
     },
     "metadata": {},
     "output_type": "display_data"
    }
   ],
   "source": [
    "#Relative area price growth compared to the quarter before\n",
    "\n",
    "\n",
    "import matplotlib.pyplot as plt\n",
    "import matplotlib.dates as mdates\n",
    "\n",
    "RelDiff = df_Price['Total'][1:].values / df_Price['Total'][:-1].values -1\n",
    "RelDiff = pd.DataFrame(RelDiff,index = df_Price.index[1:])\n",
    "RelDiff_pos = RelDiff[RelDiff[0]>0]\n",
    "\n",
    "pos_ind = [i for i in range(len(RelDiff)) if RelDiff[0][i]>0]\n",
    "\n",
    "RelDiff_neg = RelDiff[RelDiff[0]<0]\n",
    "neg_ind = [i for i in range(len(RelDiff)) if RelDiff[0][i]<0]\n",
    "\n",
    "\n",
    "\n",
    "\n",
    "fig,ax = plt.subplots(figsize = (12,6))\n",
    "ax.bar(x = pos_ind,height = RelDiff_pos[0].values,color = 'green')\n",
    "ax.bar(x = neg_ind,height = RelDiff_neg[0].values,color = 'red')\n",
    "ax.set_xticks(ticks = [i for i in range(len(RelDiff))][::7], labels = df_Price.index[1::7])\n",
    "ax.set_xlabel('Quarter')\n",
    "ax.plot(pos_ind,[0]*len(pos_ind),color = 'black')\n",
    "\n",
    "specific_dates = [date(2009, 1, 1), date(2009, 4, 1)]  # Example specific dates*\n",
    "specific_points = [mdates.date2num(date_val) for date_val in specific_dates]  # Convert dates to indices\n",
    "\n",
    "# Adding vertical lines at specific dates\n",
    "annotations = [\"Financial Crisis (Roskilde Bank bankruptcy)  \", \"Covid-19 shutdown  \",\"Invasion Of Ukraine  \"]\n",
    "ys = [0.1,0.1,-0.08]\n",
    "for point, annotation,y in zip([8*4+2, 20*4, 22*4], annotations,ys):\n",
    "    ax.axvline(x=point, color='black', linestyle='--')\n",
    "    ax.annotate(text=annotation, xy=(point, y), xytext=(0, 0), textcoords='offset points', ha='right', va='bottom')\n",
    "\n",
    "ax.set_ylabel('Percent growth from previous quarter')"
   ]
  },
  {
   "cell_type": "markdown",
   "metadata": {},
   "source": [
    "In this part of the visualization we make three map plots - First we plot the square meter sales price as a density heatmap. This is a heatmap that combines the density of the number of sales and the square meter price. Hereby, 'brighter' areas will be either a consequence of higher sales prices or multiple sales grouped together. The plots are shown over time"
   ]
  },
  {
   "cell_type": "code",
   "execution_count": 15,
   "metadata": {},
   "outputs": [],
   "source": [
    "df = pd.read_csv(\"Alting.csv\", index_col= \"Unnamed: 0\")\n",
    "center =  [np.mean(df['lon']), np.mean(df['lat'])]\n",
    "df['date'] = pd.to_datetime(df['date'])\n",
    "df['quarter'] = df['date'].dt.to_period('Q').astype(str)\n"
   ]
  },
  {
   "cell_type": "code",
   "execution_count": 16,
   "metadata": {},
   "outputs": [],
   "source": [
    "import pandas as pd\n",
    "import plotly.express as px\n",
    "center =  [np.mean(df['lon']), np.mean(df['lat'])]\n",
    "fig = px.density_mapbox(df.sort_values('date'), \n",
    "                        lat='lon', lon='lat', \n",
    "                        z='areaprice', \n",
    "                        radius=3,\n",
    "                        center=dict(lat=center[0], lon=center[1]), \n",
    "                        zoom=10, \n",
    "                        animation_frame= 'quarter', \n",
    "                        animation_group='quarter',\n",
    "                        mapbox_style=\"carto-positron\", \n",
    "                        range_color=(min(df['areaprice']),max(df['areaprice'])), \n",
    "                        title = \"Density/Price heatmap of sales\")\n",
    "fig.update_layout(width = 500, height = 700)\n",
    "fig.update_traces(zmax=max(df['areaprice']), selector=dict(type='densitymapbox'))\n",
    "fig.update_traces(zmin=min(df['areaprice']), selector=dict(type='densitymapbox'))\n",
    "fig.data[0].update(zmin=min(df['areaprice']), zmax=max(df['areaprice']))    \n",
    "fig.write_html(\"Heat_scatter_Map.html\")"
   ]
  },
  {
   "cell_type": "markdown",
   "metadata": {},
   "source": [
    "This second map is just a scatter of the sales with its corresponding square meter price displayed using a colorscale. "
   ]
  },
  {
   "cell_type": "code",
   "execution_count": null,
   "metadata": {},
   "outputs": [],
   "source": [
    "import pandas as pd\n",
    "import plotly.express as px\n",
    "fig = px.scatter_mapbox(df.sort_values('date'), \n",
    "                        lat='lon', lon='lat', \n",
    "                        color='areaprice', \n",
    "                        center=dict(lat=center[0], lon=center[1]), \n",
    "                        zoom=10, \n",
    "                        animation_frame= 'quarter', \n",
    "                        animation_group='quarter',\n",
    "                        mapbox_style=\"open-street-map\", \n",
    "                        range_color=(min(df['areaprice']),max(df['areaprice'])), \n",
    "                        title = \"Scatter of Price pr Square Meter of sales\", \n",
    "                        opacity=0.2)\n",
    "fig.update_layout(width = 500, height = 700)\n",
    "fig.write_html(\"Scatter_map.html\")"
   ]
  },
  {
   "cell_type": "markdown",
   "metadata": {},
   "source": [
    "The following two maps are Choropleth plots of the average square meter price of the different city districts shown over time in groups of quarters. Compared to the other two maps this makes it easier to understand the price development of the different districts. One plot is before 2009 and the second is after. This is done to be able to compare the prices before and after the crash in 2007/2008 but also because the plots didn't show when made on the whole period. "
   ]
  },
  {
   "cell_type": "code",
   "execution_count": 24,
   "metadata": {},
   "outputs": [],
   "source": [
    "import geopandas as gpd\n",
    "map_df = gpd.read_file('SIMONSUTTER.shx')\n",
    "big_df = pd.read_csv(\"Alting.csv\", index_col= \"Unnamed: 0\")\n",
    "big_df['bydel']= big_df['bydel'].str.replace('Nordhavn', 'København Ø')\n",
    "\n",
    "big_df['bydel'].unique()\n",
    "Bydele = list(set(big_df['bydel']))\n",
    "Bydele.remove('Hellerup')\n",
    "Bydele.remove('Kastrup')\n",
    "Bydele.remove('Rødovre') \n",
    "Bydele\n",
    "\n",
    "Num_Dict = { }\n",
    "Price_Dict = { }\n",
    "for ind, bydel in enumerate(Bydele):        \n",
    "    df = big_df[big_df['bydel'] == bydel]\n",
    "    Num_Dict[bydel] = df.groupby([df['quarter']])['areaprice'].mean()\n",
    "    Price_Dict[bydel] = df.groupby([df['quarter']])['ones'].sum()\n",
    "\n",
    "\n",
    "df_Num = pd.DataFrame(Num_Dict)\n",
    "df_Num['Quarter'] = df_Num.index\n",
    "df_Num['Total'] = df_Num[Bydele].mean(axis = 1)\n",
    "\n",
    "df_Price = pd.DataFrame(Price_Dict)\n",
    "df_Price['Quarter'] = df_Price.index\n",
    "df_Price['Total'] = df_Price[Bydele].mean(axis = 1)"
   ]
  },
  {
   "cell_type": "code",
   "execution_count": 25,
   "metadata": {},
   "outputs": [
    {
     "name": "stdout",
     "output_type": "stream",
     "text": [
      "Index(['København NV', 'København S', 'København SV', 'København V', 'Valby',\n",
      "       'Frederiksberg', 'Brønshøj', 'Vanløse', 'København K', 'København Ø',\n",
      "       'København N'],\n",
      "      dtype='object')\n"
     ]
    }
   ],
   "source": [
    "\n",
    "geometry_dict = {Bydele[i]: [map_df.iloc[i]['ogc_fid'], map_df.iloc[i]['geometry']] for i in range(0, len(map_df))}\n",
    "df_map = pd.DataFrame(columns= ['navn', \"kvmpris\", \"ogc_fid\", 'geometry', 'Quarter'])\n",
    "navne = df_Price.columns[:-2]\n",
    "\n",
    "print(navne)\n",
    "index = 0\n",
    "for i,name in enumerate(df_Price.iloc):\n",
    "    for l,j in enumerate(name):\n",
    "        if l >= 11:\n",
    "            continue\n",
    "        \n",
    "        df_map.loc[index] = [navne[l], j, geometry_dict[navne[l]][0], geometry_dict[navne[l]][1], name.Quarter]  \n",
    "        index+= 1\n",
    "        \n",
    "map1 = df_map.loc[:36*11-1] #Before 2009\n",
    "map2 = df_map.loc[36*11:1077-11*4] #After 2009\n",
    "map_df.index += 1\n"
   ]
  },
  {
   "cell_type": "code",
   "execution_count": 26,
   "metadata": {},
   "outputs": [],
   "source": [
    "#Before 2009\n",
    "fig = px.choropleth_mapbox(map1,\n",
    "                   geojson=map_df.geometry,\n",
    "                   color=\"kvmpris\",\n",
    "                   locations= \"ogc_fid\",\n",
    "                   mapbox_style=\"carto-positron\",\n",
    "                    zoom=11, \n",
    "                    opacity= 0.5,\n",
    "                    center = {\"lat\": 55.682283386295765, \"lon\": 12.527551719020813},\n",
    "                   range_color = (0, max(map1['kvmpris'])),\n",
    "                   animation_frame= 'Quarter', \n",
    "                   animation_group='Quarter',\n",
    "                   title= \"Choropleth Price Change Before 2009\")\n",
    "fig.update_geos(fitbounds=\"locations\", visible=False)\n",
    "fig.write_html(\"Pre2009_map.html\")"
   ]
  },
  {
   "cell_type": "code",
   "execution_count": 27,
   "metadata": {},
   "outputs": [],
   "source": [
    "#After 2009\n",
    "fig = px.scatter_mapbox(df.sort_values('date'), \n",
    "                        lat='lon', lon='lat', \n",
    "                        color='areaprice', \n",
    "                        center=dict(lat=center[0], lon=center[1]), \n",
    "                        zoom=10, \n",
    "                        animation_frame= 'quarter', \n",
    "                        animation_group='quarter',\n",
    "                        mapbox_style=\"open-street-map\", \n",
    "                        range_color=(min(df['areaprice']),max(df['areaprice'])), \n",
    "                        title = \"Scatter of Price pr Square Meter of sales\", \n",
    "                        opacity=0.2)\n",
    "fig.update_layout(width = 500, height = 700)\n",
    "fig.write_html(\"Scatter_map.html\")"
   ]
  },
  {
   "cell_type": "code",
   "execution_count": null,
   "metadata": {},
   "outputs": [],
   "source": []
  }
 ],
 "metadata": {
  "kernelspec": {
   "display_name": "Python 3",
   "language": "python",
   "name": "python3"
  },
  "language_info": {
   "codemirror_mode": {
    "name": "ipython",
    "version": 3
   },
   "file_extension": ".py",
   "mimetype": "text/x-python",
   "name": "python",
   "nbconvert_exporter": "python",
   "pygments_lexer": "ipython3",
   "version": "3.11.9"
  }
 },
 "nbformat": 4,
 "nbformat_minor": 2
}
